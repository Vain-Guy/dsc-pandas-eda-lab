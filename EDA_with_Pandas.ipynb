{
  "cells": [
    {
      "cell_type": "markdown",
      "metadata": {
        "id": "AzTm9QLHcHgR"
      },
      "source": [
        "# EDA with Pandas - Cumulative Lab\n",
        "\n",
        "## Introduction\n",
        "\n",
        "In this section, you've learned a lot about importing, cleaning up, analyzing (using descriptive statistics) and visualizing data. In this cumulative lab, you'll get a chance to practice all of these skills with the Ames Housing dataset, which contains information about home sales in Ames, Iowa between 2006 and 2010.\n",
        "\n",
        "## Objectives\n",
        "\n",
        "You will be able to:\n",
        "\n",
        "* Practice loading data with pandas\n",
        "* Practice calculating measures of centrality and dispersion with pandas\n",
        "* Practice creating subsets of data with pandas\n",
        "* Practice using data visualizations to explore data, and interpreting those visualizations\n",
        "* Perform a full exploratory data analysis process to gain insight about a dataset"
      ]
    },
    {
      "cell_type": "markdown",
      "metadata": {
        "id": "9algoIVTcHgS"
      },
      "source": [
        "## Your Task: Explore the Ames Housing Dataset with Pandas\n",
        "\n",
        "![aerial photo of a neighborhood](images/neighborhood_aerial.jpg)\n",
        "\n",
        "Photo by <a href=\"https://unsplash.com/@mattdonders?utm_source=unsplash&utm_medium=referral&utm_content=creditCopyText\">Matt Donders</a> on <a href=\"/@mattdonders?utm_source=unsplash&utm_medium=referral&utm_content=creditCopyText\">Unsplash</a>\n",
        "\n"
      ]
    },
    {
      "cell_type": "markdown",
      "metadata": {
        "id": "AnO7h5COcHgS"
      },
      "source": [
        "### Data Understanding\n",
        "\n",
        "Each record (row) in this dataset represents a home that was sold in Ames, IA.\n",
        "\n",
        "Each feature (column) in this dataset is some attribute of that home sale. You can view the file `data/data_description.txt` in this repository for a full explanation of all variables in this dataset — 80 columns in total.\n",
        "\n",
        "We are going to focus on the following features:\n",
        "\n",
        "**SalePrice**: `Sale price of the house in dollars`\n",
        "\n",
        "**TotRmsAbvGrd**: `Total rooms above grade (does not include bathrooms)`\n",
        "\n",
        "**OverallCond**: `Rates the overall condition of the house`\n",
        "```\n",
        "       10\tVery Excellent\n",
        "       9\t Excellent\n",
        "       8\t Very Good\n",
        "       7\t Good\n",
        "       6\t Above Average\n",
        "       5\t Average\n",
        "       4\t Below Average\n",
        "       3\t Fair\n",
        "       2\t Poor\n",
        "       1\t Very Poor\n",
        "```\n",
        "\n",
        "**YrSold**: `Year Sold (YYYY)`\n",
        "\n",
        "**YearBuilt**: `Original construction date`\n",
        "\n",
        "**LandSlope**: `Slope of property`\n",
        "```\n",
        "       Gtl\tGentle slope\n",
        "       Mod\tModerate Slope\n",
        "       Sev\tSevere Slope\n",
        "```"
      ]
    },
    {
      "cell_type": "markdown",
      "metadata": {
        "id": "Xg48X0THcHgS"
      },
      "source": [
        "### Requirements\n",
        "\n",
        "In this lab you will use your data munging and visualization skills to conduct an exploratory analysis of the dataset.\n",
        "\n",
        "#### 1. Load the Dataset with Pandas\n",
        "\n",
        "Import pandas with the standard alias `pd` and load the data into a dataframe with the standard name `df`.\n",
        "\n",
        "#### 2. Explore Data Distributions\n",
        "\n",
        "Produce summary statistics, visualizations, and interpretive text describing the distributions of `SalePrice`, `TotRmsAbvGrd`, and `OverallCond`.\n",
        "\n",
        "#### 3. Explore Differences between Subsets\n",
        "\n",
        "Separate the data into subsets based on `OverallCond`, then demonstrate how this split impacts the distribution of `SalePrice`.\n",
        "\n",
        "#### 4. Explore Correlations\n",
        "\n",
        "Find the features that have the strongest positive and negative correlations with `SalePrice`, and produce plots representing these relationships.\n",
        "\n",
        "#### 5. Engineer and Explore a New Feature\n",
        "\n",
        "Create a new feature `Age`, which represents the difference between the year sold and the year built, and plot the relationship between the age and sale price."
      ]
    },
    {
      "cell_type": "markdown",
      "metadata": {
        "id": "2QfdopavcHgT"
      },
      "source": [
        "## 1. Load the Dataset with Pandas\n",
        "\n",
        "In the cell below, import:\n",
        "* `pandas` with the standard alias `pd`\n",
        "* `matplotlib.pyplot` with the standard alias `plt`\n",
        "\n",
        "And set `%matplotlib inline` so the graphs will display immediately below the cell that creates them."
      ]
    },
    {
      "cell_type": "code",
      "execution_count": 2,
      "metadata": {
        "id": "jL5s4s8WcHgT"
      },
      "outputs": [],
      "source": [
        "# Your code here\n",
        "import pandas as pd\n",
        "import matplotlib.pyplot as plt\n",
        "%matplotlib inline"
      ]
    },
    {
      "cell_type": "markdown",
      "metadata": {
        "id": "Bd-qE6DucHgT"
      },
      "source": [
        "Now, use pandas to open the file located at `data/ames.csv` ([documentation here](https://pandas.pydata.org/pandas-docs/stable/reference/api/pandas.read_csv.html)). Specify the argument `index_col=0` in order to avoid creating an extra `Id` column. Name the resulting dataframe `df`."
      ]
    },
    {
      "cell_type": "code",
      "execution_count": 4,
      "metadata": {
        "colab": {
          "base_uri": "https://localhost:8080/",
          "height": 287
        },
        "id": "94_Y1ST6cHgT",
        "outputId": "270e8099-c1fa-445b-e741-cd42a179be49"
      },
      "outputs": [
        {
          "output_type": "execute_result",
          "data": {
            "text/plain": [
              "    MSSubClass MSZoning  LotFrontage  LotArea Street Alley LotShape  \\\n",
              "Id                                                                    \n",
              "1           60       RL         65.0     8450   Pave   NaN      Reg   \n",
              "2           20       RL         80.0     9600   Pave   NaN      Reg   \n",
              "3           60       RL         68.0    11250   Pave   NaN      IR1   \n",
              "4           70       RL         60.0     9550   Pave   NaN      IR1   \n",
              "5           60       RL         84.0    14260   Pave   NaN      IR1   \n",
              "\n",
              "   LandContour Utilities LotConfig  ... PoolArea PoolQC Fence MiscFeature  \\\n",
              "Id                                  ...                                     \n",
              "1          Lvl    AllPub    Inside  ...        0    NaN   NaN         NaN   \n",
              "2          Lvl    AllPub       FR2  ...        0    NaN   NaN         NaN   \n",
              "3          Lvl    AllPub    Inside  ...        0    NaN   NaN         NaN   \n",
              "4          Lvl    AllPub    Corner  ...        0    NaN   NaN         NaN   \n",
              "5          Lvl    AllPub       FR2  ...        0    NaN   NaN         NaN   \n",
              "\n",
              "   MiscVal MoSold  YrSold  SaleType  SaleCondition  SalePrice  \n",
              "Id                                                             \n",
              "1        0      2    2008        WD         Normal     208500  \n",
              "2        0      5    2007        WD         Normal     181500  \n",
              "3        0      9    2008        WD         Normal     223500  \n",
              "4        0      2    2006        WD        Abnorml     140000  \n",
              "5        0     12    2008        WD         Normal     250000  \n",
              "\n",
              "[5 rows x 80 columns]"
            ],
            "text/html": [
              "\n",
              "  <div id=\"df-a9b57ccd-32e2-4857-8bc8-d2b2e0f2b9e8\" class=\"colab-df-container\">\n",
              "    <div>\n",
              "<style scoped>\n",
              "    .dataframe tbody tr th:only-of-type {\n",
              "        vertical-align: middle;\n",
              "    }\n",
              "\n",
              "    .dataframe tbody tr th {\n",
              "        vertical-align: top;\n",
              "    }\n",
              "\n",
              "    .dataframe thead th {\n",
              "        text-align: right;\n",
              "    }\n",
              "</style>\n",
              "<table border=\"1\" class=\"dataframe\">\n",
              "  <thead>\n",
              "    <tr style=\"text-align: right;\">\n",
              "      <th></th>\n",
              "      <th>MSSubClass</th>\n",
              "      <th>MSZoning</th>\n",
              "      <th>LotFrontage</th>\n",
              "      <th>LotArea</th>\n",
              "      <th>Street</th>\n",
              "      <th>Alley</th>\n",
              "      <th>LotShape</th>\n",
              "      <th>LandContour</th>\n",
              "      <th>Utilities</th>\n",
              "      <th>LotConfig</th>\n",
              "      <th>...</th>\n",
              "      <th>PoolArea</th>\n",
              "      <th>PoolQC</th>\n",
              "      <th>Fence</th>\n",
              "      <th>MiscFeature</th>\n",
              "      <th>MiscVal</th>\n",
              "      <th>MoSold</th>\n",
              "      <th>YrSold</th>\n",
              "      <th>SaleType</th>\n",
              "      <th>SaleCondition</th>\n",
              "      <th>SalePrice</th>\n",
              "    </tr>\n",
              "    <tr>\n",
              "      <th>Id</th>\n",
              "      <th></th>\n",
              "      <th></th>\n",
              "      <th></th>\n",
              "      <th></th>\n",
              "      <th></th>\n",
              "      <th></th>\n",
              "      <th></th>\n",
              "      <th></th>\n",
              "      <th></th>\n",
              "      <th></th>\n",
              "      <th></th>\n",
              "      <th></th>\n",
              "      <th></th>\n",
              "      <th></th>\n",
              "      <th></th>\n",
              "      <th></th>\n",
              "      <th></th>\n",
              "      <th></th>\n",
              "      <th></th>\n",
              "      <th></th>\n",
              "      <th></th>\n",
              "    </tr>\n",
              "  </thead>\n",
              "  <tbody>\n",
              "    <tr>\n",
              "      <th>1</th>\n",
              "      <td>60</td>\n",
              "      <td>RL</td>\n",
              "      <td>65.0</td>\n",
              "      <td>8450</td>\n",
              "      <td>Pave</td>\n",
              "      <td>NaN</td>\n",
              "      <td>Reg</td>\n",
              "      <td>Lvl</td>\n",
              "      <td>AllPub</td>\n",
              "      <td>Inside</td>\n",
              "      <td>...</td>\n",
              "      <td>0</td>\n",
              "      <td>NaN</td>\n",
              "      <td>NaN</td>\n",
              "      <td>NaN</td>\n",
              "      <td>0</td>\n",
              "      <td>2</td>\n",
              "      <td>2008</td>\n",
              "      <td>WD</td>\n",
              "      <td>Normal</td>\n",
              "      <td>208500</td>\n",
              "    </tr>\n",
              "    <tr>\n",
              "      <th>2</th>\n",
              "      <td>20</td>\n",
              "      <td>RL</td>\n",
              "      <td>80.0</td>\n",
              "      <td>9600</td>\n",
              "      <td>Pave</td>\n",
              "      <td>NaN</td>\n",
              "      <td>Reg</td>\n",
              "      <td>Lvl</td>\n",
              "      <td>AllPub</td>\n",
              "      <td>FR2</td>\n",
              "      <td>...</td>\n",
              "      <td>0</td>\n",
              "      <td>NaN</td>\n",
              "      <td>NaN</td>\n",
              "      <td>NaN</td>\n",
              "      <td>0</td>\n",
              "      <td>5</td>\n",
              "      <td>2007</td>\n",
              "      <td>WD</td>\n",
              "      <td>Normal</td>\n",
              "      <td>181500</td>\n",
              "    </tr>\n",
              "    <tr>\n",
              "      <th>3</th>\n",
              "      <td>60</td>\n",
              "      <td>RL</td>\n",
              "      <td>68.0</td>\n",
              "      <td>11250</td>\n",
              "      <td>Pave</td>\n",
              "      <td>NaN</td>\n",
              "      <td>IR1</td>\n",
              "      <td>Lvl</td>\n",
              "      <td>AllPub</td>\n",
              "      <td>Inside</td>\n",
              "      <td>...</td>\n",
              "      <td>0</td>\n",
              "      <td>NaN</td>\n",
              "      <td>NaN</td>\n",
              "      <td>NaN</td>\n",
              "      <td>0</td>\n",
              "      <td>9</td>\n",
              "      <td>2008</td>\n",
              "      <td>WD</td>\n",
              "      <td>Normal</td>\n",
              "      <td>223500</td>\n",
              "    </tr>\n",
              "    <tr>\n",
              "      <th>4</th>\n",
              "      <td>70</td>\n",
              "      <td>RL</td>\n",
              "      <td>60.0</td>\n",
              "      <td>9550</td>\n",
              "      <td>Pave</td>\n",
              "      <td>NaN</td>\n",
              "      <td>IR1</td>\n",
              "      <td>Lvl</td>\n",
              "      <td>AllPub</td>\n",
              "      <td>Corner</td>\n",
              "      <td>...</td>\n",
              "      <td>0</td>\n",
              "      <td>NaN</td>\n",
              "      <td>NaN</td>\n",
              "      <td>NaN</td>\n",
              "      <td>0</td>\n",
              "      <td>2</td>\n",
              "      <td>2006</td>\n",
              "      <td>WD</td>\n",
              "      <td>Abnorml</td>\n",
              "      <td>140000</td>\n",
              "    </tr>\n",
              "    <tr>\n",
              "      <th>5</th>\n",
              "      <td>60</td>\n",
              "      <td>RL</td>\n",
              "      <td>84.0</td>\n",
              "      <td>14260</td>\n",
              "      <td>Pave</td>\n",
              "      <td>NaN</td>\n",
              "      <td>IR1</td>\n",
              "      <td>Lvl</td>\n",
              "      <td>AllPub</td>\n",
              "      <td>FR2</td>\n",
              "      <td>...</td>\n",
              "      <td>0</td>\n",
              "      <td>NaN</td>\n",
              "      <td>NaN</td>\n",
              "      <td>NaN</td>\n",
              "      <td>0</td>\n",
              "      <td>12</td>\n",
              "      <td>2008</td>\n",
              "      <td>WD</td>\n",
              "      <td>Normal</td>\n",
              "      <td>250000</td>\n",
              "    </tr>\n",
              "  </tbody>\n",
              "</table>\n",
              "<p>5 rows × 80 columns</p>\n",
              "</div>\n",
              "    <div class=\"colab-df-buttons\">\n",
              "\n",
              "  <div class=\"colab-df-container\">\n",
              "    <button class=\"colab-df-convert\" onclick=\"convertToInteractive('df-a9b57ccd-32e2-4857-8bc8-d2b2e0f2b9e8')\"\n",
              "            title=\"Convert this dataframe to an interactive table.\"\n",
              "            style=\"display:none;\">\n",
              "\n",
              "  <svg xmlns=\"http://www.w3.org/2000/svg\" height=\"24px\" viewBox=\"0 -960 960 960\">\n",
              "    <path d=\"M120-120v-720h720v720H120Zm60-500h600v-160H180v160Zm220 220h160v-160H400v160Zm0 220h160v-160H400v160ZM180-400h160v-160H180v160Zm440 0h160v-160H620v160ZM180-180h160v-160H180v160Zm440 0h160v-160H620v160Z\"/>\n",
              "  </svg>\n",
              "    </button>\n",
              "\n",
              "  <style>\n",
              "    .colab-df-container {\n",
              "      display:flex;\n",
              "      gap: 12px;\n",
              "    }\n",
              "\n",
              "    .colab-df-convert {\n",
              "      background-color: #E8F0FE;\n",
              "      border: none;\n",
              "      border-radius: 50%;\n",
              "      cursor: pointer;\n",
              "      display: none;\n",
              "      fill: #1967D2;\n",
              "      height: 32px;\n",
              "      padding: 0 0 0 0;\n",
              "      width: 32px;\n",
              "    }\n",
              "\n",
              "    .colab-df-convert:hover {\n",
              "      background-color: #E2EBFA;\n",
              "      box-shadow: 0px 1px 2px rgba(60, 64, 67, 0.3), 0px 1px 3px 1px rgba(60, 64, 67, 0.15);\n",
              "      fill: #174EA6;\n",
              "    }\n",
              "\n",
              "    .colab-df-buttons div {\n",
              "      margin-bottom: 4px;\n",
              "    }\n",
              "\n",
              "    [theme=dark] .colab-df-convert {\n",
              "      background-color: #3B4455;\n",
              "      fill: #D2E3FC;\n",
              "    }\n",
              "\n",
              "    [theme=dark] .colab-df-convert:hover {\n",
              "      background-color: #434B5C;\n",
              "      box-shadow: 0px 1px 3px 1px rgba(0, 0, 0, 0.15);\n",
              "      filter: drop-shadow(0px 1px 2px rgba(0, 0, 0, 0.3));\n",
              "      fill: #FFFFFF;\n",
              "    }\n",
              "  </style>\n",
              "\n",
              "    <script>\n",
              "      const buttonEl =\n",
              "        document.querySelector('#df-a9b57ccd-32e2-4857-8bc8-d2b2e0f2b9e8 button.colab-df-convert');\n",
              "      buttonEl.style.display =\n",
              "        google.colab.kernel.accessAllowed ? 'block' : 'none';\n",
              "\n",
              "      async function convertToInteractive(key) {\n",
              "        const element = document.querySelector('#df-a9b57ccd-32e2-4857-8bc8-d2b2e0f2b9e8');\n",
              "        const dataTable =\n",
              "          await google.colab.kernel.invokeFunction('convertToInteractive',\n",
              "                                                    [key], {});\n",
              "        if (!dataTable) return;\n",
              "\n",
              "        const docLinkHtml = 'Like what you see? Visit the ' +\n",
              "          '<a target=\"_blank\" href=https://colab.research.google.com/notebooks/data_table.ipynb>data table notebook</a>'\n",
              "          + ' to learn more about interactive tables.';\n",
              "        element.innerHTML = '';\n",
              "        dataTable['output_type'] = 'display_data';\n",
              "        await google.colab.output.renderOutput(dataTable, element);\n",
              "        const docLink = document.createElement('div');\n",
              "        docLink.innerHTML = docLinkHtml;\n",
              "        element.appendChild(docLink);\n",
              "      }\n",
              "    </script>\n",
              "  </div>\n",
              "\n",
              "\n",
              "    <div id=\"df-40b4e101-69fb-4ede-bd3c-3df985cb1d3c\">\n",
              "      <button class=\"colab-df-quickchart\" onclick=\"quickchart('df-40b4e101-69fb-4ede-bd3c-3df985cb1d3c')\"\n",
              "                title=\"Suggest charts\"\n",
              "                style=\"display:none;\">\n",
              "\n",
              "<svg xmlns=\"http://www.w3.org/2000/svg\" height=\"24px\"viewBox=\"0 0 24 24\"\n",
              "     width=\"24px\">\n",
              "    <g>\n",
              "        <path d=\"M19 3H5c-1.1 0-2 .9-2 2v14c0 1.1.9 2 2 2h14c1.1 0 2-.9 2-2V5c0-1.1-.9-2-2-2zM9 17H7v-7h2v7zm4 0h-2V7h2v10zm4 0h-2v-4h2v4z\"/>\n",
              "    </g>\n",
              "</svg>\n",
              "      </button>\n",
              "\n",
              "<style>\n",
              "  .colab-df-quickchart {\n",
              "      --bg-color: #E8F0FE;\n",
              "      --fill-color: #1967D2;\n",
              "      --hover-bg-color: #E2EBFA;\n",
              "      --hover-fill-color: #174EA6;\n",
              "      --disabled-fill-color: #AAA;\n",
              "      --disabled-bg-color: #DDD;\n",
              "  }\n",
              "\n",
              "  [theme=dark] .colab-df-quickchart {\n",
              "      --bg-color: #3B4455;\n",
              "      --fill-color: #D2E3FC;\n",
              "      --hover-bg-color: #434B5C;\n",
              "      --hover-fill-color: #FFFFFF;\n",
              "      --disabled-bg-color: #3B4455;\n",
              "      --disabled-fill-color: #666;\n",
              "  }\n",
              "\n",
              "  .colab-df-quickchart {\n",
              "    background-color: var(--bg-color);\n",
              "    border: none;\n",
              "    border-radius: 50%;\n",
              "    cursor: pointer;\n",
              "    display: none;\n",
              "    fill: var(--fill-color);\n",
              "    height: 32px;\n",
              "    padding: 0;\n",
              "    width: 32px;\n",
              "  }\n",
              "\n",
              "  .colab-df-quickchart:hover {\n",
              "    background-color: var(--hover-bg-color);\n",
              "    box-shadow: 0 1px 2px rgba(60, 64, 67, 0.3), 0 1px 3px 1px rgba(60, 64, 67, 0.15);\n",
              "    fill: var(--button-hover-fill-color);\n",
              "  }\n",
              "\n",
              "  .colab-df-quickchart-complete:disabled,\n",
              "  .colab-df-quickchart-complete:disabled:hover {\n",
              "    background-color: var(--disabled-bg-color);\n",
              "    fill: var(--disabled-fill-color);\n",
              "    box-shadow: none;\n",
              "  }\n",
              "\n",
              "  .colab-df-spinner {\n",
              "    border: 2px solid var(--fill-color);\n",
              "    border-color: transparent;\n",
              "    border-bottom-color: var(--fill-color);\n",
              "    animation:\n",
              "      spin 1s steps(1) infinite;\n",
              "  }\n",
              "\n",
              "  @keyframes spin {\n",
              "    0% {\n",
              "      border-color: transparent;\n",
              "      border-bottom-color: var(--fill-color);\n",
              "      border-left-color: var(--fill-color);\n",
              "    }\n",
              "    20% {\n",
              "      border-color: transparent;\n",
              "      border-left-color: var(--fill-color);\n",
              "      border-top-color: var(--fill-color);\n",
              "    }\n",
              "    30% {\n",
              "      border-color: transparent;\n",
              "      border-left-color: var(--fill-color);\n",
              "      border-top-color: var(--fill-color);\n",
              "      border-right-color: var(--fill-color);\n",
              "    }\n",
              "    40% {\n",
              "      border-color: transparent;\n",
              "      border-right-color: var(--fill-color);\n",
              "      border-top-color: var(--fill-color);\n",
              "    }\n",
              "    60% {\n",
              "      border-color: transparent;\n",
              "      border-right-color: var(--fill-color);\n",
              "    }\n",
              "    80% {\n",
              "      border-color: transparent;\n",
              "      border-right-color: var(--fill-color);\n",
              "      border-bottom-color: var(--fill-color);\n",
              "    }\n",
              "    90% {\n",
              "      border-color: transparent;\n",
              "      border-bottom-color: var(--fill-color);\n",
              "    }\n",
              "  }\n",
              "</style>\n",
              "\n",
              "      <script>\n",
              "        async function quickchart(key) {\n",
              "          const quickchartButtonEl =\n",
              "            document.querySelector('#' + key + ' button');\n",
              "          quickchartButtonEl.disabled = true;  // To prevent multiple clicks.\n",
              "          quickchartButtonEl.classList.add('colab-df-spinner');\n",
              "          try {\n",
              "            const charts = await google.colab.kernel.invokeFunction(\n",
              "                'suggestCharts', [key], {});\n",
              "          } catch (error) {\n",
              "            console.error('Error during call to suggestCharts:', error);\n",
              "          }\n",
              "          quickchartButtonEl.classList.remove('colab-df-spinner');\n",
              "          quickchartButtonEl.classList.add('colab-df-quickchart-complete');\n",
              "        }\n",
              "        (() => {\n",
              "          let quickchartButtonEl =\n",
              "            document.querySelector('#df-40b4e101-69fb-4ede-bd3c-3df985cb1d3c button');\n",
              "          quickchartButtonEl.style.display =\n",
              "            google.colab.kernel.accessAllowed ? 'block' : 'none';\n",
              "        })();\n",
              "      </script>\n",
              "    </div>\n",
              "\n",
              "    </div>\n",
              "  </div>\n"
            ],
            "application/vnd.google.colaboratory.intrinsic+json": {
              "type": "dataframe",
              "variable_name": "df"
            }
          },
          "metadata": {},
          "execution_count": 4
        }
      ],
      "source": [
        "# Your code here\n",
        "df = pd.read_csv('/content/ames.csv', index_col = 0)\n",
        "df.head()\n"
      ]
    },
    {
      "cell_type": "markdown",
      "metadata": {
        "id": "0J_Smcs_cHgU"
      },
      "source": [
        "The following code checks that you loaded the data correctly:"
      ]
    },
    {
      "cell_type": "code",
      "execution_count": 5,
      "metadata": {
        "id": "_oAd1Z_ocHgU"
      },
      "outputs": [],
      "source": [
        "# Run this cell without changes\n",
        "\n",
        "# Check that df is a dataframe\n",
        "assert type(df) == pd.DataFrame\n",
        "\n",
        "# Check that there are the correct number of rows\n",
        "assert df.shape[0] == 1460\n",
        "\n",
        "# Check that there are the correct number of columns\n",
        "# (if this crashes, make sure you specified `index_col=0`)\n",
        "assert df.shape[1] == 80"
      ]
    },
    {
      "cell_type": "markdown",
      "metadata": {
        "id": "k1m14CUzcHgU"
      },
      "source": [
        "Inspect the contents of the dataframe:"
      ]
    },
    {
      "cell_type": "code",
      "execution_count": 6,
      "metadata": {
        "colab": {
          "base_uri": "https://localhost:8080/",
          "height": 475
        },
        "id": "kcLrgeODcHgU",
        "outputId": "cc7bd640-d23a-4cbd-9763-db542792d04b"
      },
      "outputs": [
        {
          "output_type": "execute_result",
          "data": {
            "text/plain": [
              "      MSSubClass MSZoning  LotFrontage  LotArea Street Alley LotShape  \\\n",
              "Id                                                                      \n",
              "1             60       RL         65.0     8450   Pave   NaN      Reg   \n",
              "2             20       RL         80.0     9600   Pave   NaN      Reg   \n",
              "3             60       RL         68.0    11250   Pave   NaN      IR1   \n",
              "4             70       RL         60.0     9550   Pave   NaN      IR1   \n",
              "5             60       RL         84.0    14260   Pave   NaN      IR1   \n",
              "...          ...      ...          ...      ...    ...   ...      ...   \n",
              "1456          60       RL         62.0     7917   Pave   NaN      Reg   \n",
              "1457          20       RL         85.0    13175   Pave   NaN      Reg   \n",
              "1458          70       RL         66.0     9042   Pave   NaN      Reg   \n",
              "1459          20       RL         68.0     9717   Pave   NaN      Reg   \n",
              "1460          20       RL         75.0     9937   Pave   NaN      Reg   \n",
              "\n",
              "     LandContour Utilities LotConfig  ... PoolArea PoolQC  Fence MiscFeature  \\\n",
              "Id                                    ...                                      \n",
              "1            Lvl    AllPub    Inside  ...        0    NaN    NaN         NaN   \n",
              "2            Lvl    AllPub       FR2  ...        0    NaN    NaN         NaN   \n",
              "3            Lvl    AllPub    Inside  ...        0    NaN    NaN         NaN   \n",
              "4            Lvl    AllPub    Corner  ...        0    NaN    NaN         NaN   \n",
              "5            Lvl    AllPub       FR2  ...        0    NaN    NaN         NaN   \n",
              "...          ...       ...       ...  ...      ...    ...    ...         ...   \n",
              "1456         Lvl    AllPub    Inside  ...        0    NaN    NaN         NaN   \n",
              "1457         Lvl    AllPub    Inside  ...        0    NaN  MnPrv         NaN   \n",
              "1458         Lvl    AllPub    Inside  ...        0    NaN  GdPrv        Shed   \n",
              "1459         Lvl    AllPub    Inside  ...        0    NaN    NaN         NaN   \n",
              "1460         Lvl    AllPub    Inside  ...        0    NaN    NaN         NaN   \n",
              "\n",
              "     MiscVal MoSold  YrSold  SaleType  SaleCondition  SalePrice  \n",
              "Id                                                               \n",
              "1          0      2    2008        WD         Normal     208500  \n",
              "2          0      5    2007        WD         Normal     181500  \n",
              "3          0      9    2008        WD         Normal     223500  \n",
              "4          0      2    2006        WD        Abnorml     140000  \n",
              "5          0     12    2008        WD         Normal     250000  \n",
              "...      ...    ...     ...       ...            ...        ...  \n",
              "1456       0      8    2007        WD         Normal     175000  \n",
              "1457       0      2    2010        WD         Normal     210000  \n",
              "1458    2500      5    2010        WD         Normal     266500  \n",
              "1459       0      4    2010        WD         Normal     142125  \n",
              "1460       0      6    2008        WD         Normal     147500  \n",
              "\n",
              "[1460 rows x 80 columns]"
            ],
            "text/html": [
              "\n",
              "  <div id=\"df-e1b7eff5-4078-4ef3-8d34-1ecc21326c3a\" class=\"colab-df-container\">\n",
              "    <div>\n",
              "<style scoped>\n",
              "    .dataframe tbody tr th:only-of-type {\n",
              "        vertical-align: middle;\n",
              "    }\n",
              "\n",
              "    .dataframe tbody tr th {\n",
              "        vertical-align: top;\n",
              "    }\n",
              "\n",
              "    .dataframe thead th {\n",
              "        text-align: right;\n",
              "    }\n",
              "</style>\n",
              "<table border=\"1\" class=\"dataframe\">\n",
              "  <thead>\n",
              "    <tr style=\"text-align: right;\">\n",
              "      <th></th>\n",
              "      <th>MSSubClass</th>\n",
              "      <th>MSZoning</th>\n",
              "      <th>LotFrontage</th>\n",
              "      <th>LotArea</th>\n",
              "      <th>Street</th>\n",
              "      <th>Alley</th>\n",
              "      <th>LotShape</th>\n",
              "      <th>LandContour</th>\n",
              "      <th>Utilities</th>\n",
              "      <th>LotConfig</th>\n",
              "      <th>...</th>\n",
              "      <th>PoolArea</th>\n",
              "      <th>PoolQC</th>\n",
              "      <th>Fence</th>\n",
              "      <th>MiscFeature</th>\n",
              "      <th>MiscVal</th>\n",
              "      <th>MoSold</th>\n",
              "      <th>YrSold</th>\n",
              "      <th>SaleType</th>\n",
              "      <th>SaleCondition</th>\n",
              "      <th>SalePrice</th>\n",
              "    </tr>\n",
              "    <tr>\n",
              "      <th>Id</th>\n",
              "      <th></th>\n",
              "      <th></th>\n",
              "      <th></th>\n",
              "      <th></th>\n",
              "      <th></th>\n",
              "      <th></th>\n",
              "      <th></th>\n",
              "      <th></th>\n",
              "      <th></th>\n",
              "      <th></th>\n",
              "      <th></th>\n",
              "      <th></th>\n",
              "      <th></th>\n",
              "      <th></th>\n",
              "      <th></th>\n",
              "      <th></th>\n",
              "      <th></th>\n",
              "      <th></th>\n",
              "      <th></th>\n",
              "      <th></th>\n",
              "      <th></th>\n",
              "    </tr>\n",
              "  </thead>\n",
              "  <tbody>\n",
              "    <tr>\n",
              "      <th>1</th>\n",
              "      <td>60</td>\n",
              "      <td>RL</td>\n",
              "      <td>65.0</td>\n",
              "      <td>8450</td>\n",
              "      <td>Pave</td>\n",
              "      <td>NaN</td>\n",
              "      <td>Reg</td>\n",
              "      <td>Lvl</td>\n",
              "      <td>AllPub</td>\n",
              "      <td>Inside</td>\n",
              "      <td>...</td>\n",
              "      <td>0</td>\n",
              "      <td>NaN</td>\n",
              "      <td>NaN</td>\n",
              "      <td>NaN</td>\n",
              "      <td>0</td>\n",
              "      <td>2</td>\n",
              "      <td>2008</td>\n",
              "      <td>WD</td>\n",
              "      <td>Normal</td>\n",
              "      <td>208500</td>\n",
              "    </tr>\n",
              "    <tr>\n",
              "      <th>2</th>\n",
              "      <td>20</td>\n",
              "      <td>RL</td>\n",
              "      <td>80.0</td>\n",
              "      <td>9600</td>\n",
              "      <td>Pave</td>\n",
              "      <td>NaN</td>\n",
              "      <td>Reg</td>\n",
              "      <td>Lvl</td>\n",
              "      <td>AllPub</td>\n",
              "      <td>FR2</td>\n",
              "      <td>...</td>\n",
              "      <td>0</td>\n",
              "      <td>NaN</td>\n",
              "      <td>NaN</td>\n",
              "      <td>NaN</td>\n",
              "      <td>0</td>\n",
              "      <td>5</td>\n",
              "      <td>2007</td>\n",
              "      <td>WD</td>\n",
              "      <td>Normal</td>\n",
              "      <td>181500</td>\n",
              "    </tr>\n",
              "    <tr>\n",
              "      <th>3</th>\n",
              "      <td>60</td>\n",
              "      <td>RL</td>\n",
              "      <td>68.0</td>\n",
              "      <td>11250</td>\n",
              "      <td>Pave</td>\n",
              "      <td>NaN</td>\n",
              "      <td>IR1</td>\n",
              "      <td>Lvl</td>\n",
              "      <td>AllPub</td>\n",
              "      <td>Inside</td>\n",
              "      <td>...</td>\n",
              "      <td>0</td>\n",
              "      <td>NaN</td>\n",
              "      <td>NaN</td>\n",
              "      <td>NaN</td>\n",
              "      <td>0</td>\n",
              "      <td>9</td>\n",
              "      <td>2008</td>\n",
              "      <td>WD</td>\n",
              "      <td>Normal</td>\n",
              "      <td>223500</td>\n",
              "    </tr>\n",
              "    <tr>\n",
              "      <th>4</th>\n",
              "      <td>70</td>\n",
              "      <td>RL</td>\n",
              "      <td>60.0</td>\n",
              "      <td>9550</td>\n",
              "      <td>Pave</td>\n",
              "      <td>NaN</td>\n",
              "      <td>IR1</td>\n",
              "      <td>Lvl</td>\n",
              "      <td>AllPub</td>\n",
              "      <td>Corner</td>\n",
              "      <td>...</td>\n",
              "      <td>0</td>\n",
              "      <td>NaN</td>\n",
              "      <td>NaN</td>\n",
              "      <td>NaN</td>\n",
              "      <td>0</td>\n",
              "      <td>2</td>\n",
              "      <td>2006</td>\n",
              "      <td>WD</td>\n",
              "      <td>Abnorml</td>\n",
              "      <td>140000</td>\n",
              "    </tr>\n",
              "    <tr>\n",
              "      <th>5</th>\n",
              "      <td>60</td>\n",
              "      <td>RL</td>\n",
              "      <td>84.0</td>\n",
              "      <td>14260</td>\n",
              "      <td>Pave</td>\n",
              "      <td>NaN</td>\n",
              "      <td>IR1</td>\n",
              "      <td>Lvl</td>\n",
              "      <td>AllPub</td>\n",
              "      <td>FR2</td>\n",
              "      <td>...</td>\n",
              "      <td>0</td>\n",
              "      <td>NaN</td>\n",
              "      <td>NaN</td>\n",
              "      <td>NaN</td>\n",
              "      <td>0</td>\n",
              "      <td>12</td>\n",
              "      <td>2008</td>\n",
              "      <td>WD</td>\n",
              "      <td>Normal</td>\n",
              "      <td>250000</td>\n",
              "    </tr>\n",
              "    <tr>\n",
              "      <th>...</th>\n",
              "      <td>...</td>\n",
              "      <td>...</td>\n",
              "      <td>...</td>\n",
              "      <td>...</td>\n",
              "      <td>...</td>\n",
              "      <td>...</td>\n",
              "      <td>...</td>\n",
              "      <td>...</td>\n",
              "      <td>...</td>\n",
              "      <td>...</td>\n",
              "      <td>...</td>\n",
              "      <td>...</td>\n",
              "      <td>...</td>\n",
              "      <td>...</td>\n",
              "      <td>...</td>\n",
              "      <td>...</td>\n",
              "      <td>...</td>\n",
              "      <td>...</td>\n",
              "      <td>...</td>\n",
              "      <td>...</td>\n",
              "      <td>...</td>\n",
              "    </tr>\n",
              "    <tr>\n",
              "      <th>1456</th>\n",
              "      <td>60</td>\n",
              "      <td>RL</td>\n",
              "      <td>62.0</td>\n",
              "      <td>7917</td>\n",
              "      <td>Pave</td>\n",
              "      <td>NaN</td>\n",
              "      <td>Reg</td>\n",
              "      <td>Lvl</td>\n",
              "      <td>AllPub</td>\n",
              "      <td>Inside</td>\n",
              "      <td>...</td>\n",
              "      <td>0</td>\n",
              "      <td>NaN</td>\n",
              "      <td>NaN</td>\n",
              "      <td>NaN</td>\n",
              "      <td>0</td>\n",
              "      <td>8</td>\n",
              "      <td>2007</td>\n",
              "      <td>WD</td>\n",
              "      <td>Normal</td>\n",
              "      <td>175000</td>\n",
              "    </tr>\n",
              "    <tr>\n",
              "      <th>1457</th>\n",
              "      <td>20</td>\n",
              "      <td>RL</td>\n",
              "      <td>85.0</td>\n",
              "      <td>13175</td>\n",
              "      <td>Pave</td>\n",
              "      <td>NaN</td>\n",
              "      <td>Reg</td>\n",
              "      <td>Lvl</td>\n",
              "      <td>AllPub</td>\n",
              "      <td>Inside</td>\n",
              "      <td>...</td>\n",
              "      <td>0</td>\n",
              "      <td>NaN</td>\n",
              "      <td>MnPrv</td>\n",
              "      <td>NaN</td>\n",
              "      <td>0</td>\n",
              "      <td>2</td>\n",
              "      <td>2010</td>\n",
              "      <td>WD</td>\n",
              "      <td>Normal</td>\n",
              "      <td>210000</td>\n",
              "    </tr>\n",
              "    <tr>\n",
              "      <th>1458</th>\n",
              "      <td>70</td>\n",
              "      <td>RL</td>\n",
              "      <td>66.0</td>\n",
              "      <td>9042</td>\n",
              "      <td>Pave</td>\n",
              "      <td>NaN</td>\n",
              "      <td>Reg</td>\n",
              "      <td>Lvl</td>\n",
              "      <td>AllPub</td>\n",
              "      <td>Inside</td>\n",
              "      <td>...</td>\n",
              "      <td>0</td>\n",
              "      <td>NaN</td>\n",
              "      <td>GdPrv</td>\n",
              "      <td>Shed</td>\n",
              "      <td>2500</td>\n",
              "      <td>5</td>\n",
              "      <td>2010</td>\n",
              "      <td>WD</td>\n",
              "      <td>Normal</td>\n",
              "      <td>266500</td>\n",
              "    </tr>\n",
              "    <tr>\n",
              "      <th>1459</th>\n",
              "      <td>20</td>\n",
              "      <td>RL</td>\n",
              "      <td>68.0</td>\n",
              "      <td>9717</td>\n",
              "      <td>Pave</td>\n",
              "      <td>NaN</td>\n",
              "      <td>Reg</td>\n",
              "      <td>Lvl</td>\n",
              "      <td>AllPub</td>\n",
              "      <td>Inside</td>\n",
              "      <td>...</td>\n",
              "      <td>0</td>\n",
              "      <td>NaN</td>\n",
              "      <td>NaN</td>\n",
              "      <td>NaN</td>\n",
              "      <td>0</td>\n",
              "      <td>4</td>\n",
              "      <td>2010</td>\n",
              "      <td>WD</td>\n",
              "      <td>Normal</td>\n",
              "      <td>142125</td>\n",
              "    </tr>\n",
              "    <tr>\n",
              "      <th>1460</th>\n",
              "      <td>20</td>\n",
              "      <td>RL</td>\n",
              "      <td>75.0</td>\n",
              "      <td>9937</td>\n",
              "      <td>Pave</td>\n",
              "      <td>NaN</td>\n",
              "      <td>Reg</td>\n",
              "      <td>Lvl</td>\n",
              "      <td>AllPub</td>\n",
              "      <td>Inside</td>\n",
              "      <td>...</td>\n",
              "      <td>0</td>\n",
              "      <td>NaN</td>\n",
              "      <td>NaN</td>\n",
              "      <td>NaN</td>\n",
              "      <td>0</td>\n",
              "      <td>6</td>\n",
              "      <td>2008</td>\n",
              "      <td>WD</td>\n",
              "      <td>Normal</td>\n",
              "      <td>147500</td>\n",
              "    </tr>\n",
              "  </tbody>\n",
              "</table>\n",
              "<p>1460 rows × 80 columns</p>\n",
              "</div>\n",
              "    <div class=\"colab-df-buttons\">\n",
              "\n",
              "  <div class=\"colab-df-container\">\n",
              "    <button class=\"colab-df-convert\" onclick=\"convertToInteractive('df-e1b7eff5-4078-4ef3-8d34-1ecc21326c3a')\"\n",
              "            title=\"Convert this dataframe to an interactive table.\"\n",
              "            style=\"display:none;\">\n",
              "\n",
              "  <svg xmlns=\"http://www.w3.org/2000/svg\" height=\"24px\" viewBox=\"0 -960 960 960\">\n",
              "    <path d=\"M120-120v-720h720v720H120Zm60-500h600v-160H180v160Zm220 220h160v-160H400v160Zm0 220h160v-160H400v160ZM180-400h160v-160H180v160Zm440 0h160v-160H620v160ZM180-180h160v-160H180v160Zm440 0h160v-160H620v160Z\"/>\n",
              "  </svg>\n",
              "    </button>\n",
              "\n",
              "  <style>\n",
              "    .colab-df-container {\n",
              "      display:flex;\n",
              "      gap: 12px;\n",
              "    }\n",
              "\n",
              "    .colab-df-convert {\n",
              "      background-color: #E8F0FE;\n",
              "      border: none;\n",
              "      border-radius: 50%;\n",
              "      cursor: pointer;\n",
              "      display: none;\n",
              "      fill: #1967D2;\n",
              "      height: 32px;\n",
              "      padding: 0 0 0 0;\n",
              "      width: 32px;\n",
              "    }\n",
              "\n",
              "    .colab-df-convert:hover {\n",
              "      background-color: #E2EBFA;\n",
              "      box-shadow: 0px 1px 2px rgba(60, 64, 67, 0.3), 0px 1px 3px 1px rgba(60, 64, 67, 0.15);\n",
              "      fill: #174EA6;\n",
              "    }\n",
              "\n",
              "    .colab-df-buttons div {\n",
              "      margin-bottom: 4px;\n",
              "    }\n",
              "\n",
              "    [theme=dark] .colab-df-convert {\n",
              "      background-color: #3B4455;\n",
              "      fill: #D2E3FC;\n",
              "    }\n",
              "\n",
              "    [theme=dark] .colab-df-convert:hover {\n",
              "      background-color: #434B5C;\n",
              "      box-shadow: 0px 1px 3px 1px rgba(0, 0, 0, 0.15);\n",
              "      filter: drop-shadow(0px 1px 2px rgba(0, 0, 0, 0.3));\n",
              "      fill: #FFFFFF;\n",
              "    }\n",
              "  </style>\n",
              "\n",
              "    <script>\n",
              "      const buttonEl =\n",
              "        document.querySelector('#df-e1b7eff5-4078-4ef3-8d34-1ecc21326c3a button.colab-df-convert');\n",
              "      buttonEl.style.display =\n",
              "        google.colab.kernel.accessAllowed ? 'block' : 'none';\n",
              "\n",
              "      async function convertToInteractive(key) {\n",
              "        const element = document.querySelector('#df-e1b7eff5-4078-4ef3-8d34-1ecc21326c3a');\n",
              "        const dataTable =\n",
              "          await google.colab.kernel.invokeFunction('convertToInteractive',\n",
              "                                                    [key], {});\n",
              "        if (!dataTable) return;\n",
              "\n",
              "        const docLinkHtml = 'Like what you see? Visit the ' +\n",
              "          '<a target=\"_blank\" href=https://colab.research.google.com/notebooks/data_table.ipynb>data table notebook</a>'\n",
              "          + ' to learn more about interactive tables.';\n",
              "        element.innerHTML = '';\n",
              "        dataTable['output_type'] = 'display_data';\n",
              "        await google.colab.output.renderOutput(dataTable, element);\n",
              "        const docLink = document.createElement('div');\n",
              "        docLink.innerHTML = docLinkHtml;\n",
              "        element.appendChild(docLink);\n",
              "      }\n",
              "    </script>\n",
              "  </div>\n",
              "\n",
              "\n",
              "    <div id=\"df-c04ba3c4-3e6d-4217-a98d-d40af398bc0f\">\n",
              "      <button class=\"colab-df-quickchart\" onclick=\"quickchart('df-c04ba3c4-3e6d-4217-a98d-d40af398bc0f')\"\n",
              "                title=\"Suggest charts\"\n",
              "                style=\"display:none;\">\n",
              "\n",
              "<svg xmlns=\"http://www.w3.org/2000/svg\" height=\"24px\"viewBox=\"0 0 24 24\"\n",
              "     width=\"24px\">\n",
              "    <g>\n",
              "        <path d=\"M19 3H5c-1.1 0-2 .9-2 2v14c0 1.1.9 2 2 2h14c1.1 0 2-.9 2-2V5c0-1.1-.9-2-2-2zM9 17H7v-7h2v7zm4 0h-2V7h2v10zm4 0h-2v-4h2v4z\"/>\n",
              "    </g>\n",
              "</svg>\n",
              "      </button>\n",
              "\n",
              "<style>\n",
              "  .colab-df-quickchart {\n",
              "      --bg-color: #E8F0FE;\n",
              "      --fill-color: #1967D2;\n",
              "      --hover-bg-color: #E2EBFA;\n",
              "      --hover-fill-color: #174EA6;\n",
              "      --disabled-fill-color: #AAA;\n",
              "      --disabled-bg-color: #DDD;\n",
              "  }\n",
              "\n",
              "  [theme=dark] .colab-df-quickchart {\n",
              "      --bg-color: #3B4455;\n",
              "      --fill-color: #D2E3FC;\n",
              "      --hover-bg-color: #434B5C;\n",
              "      --hover-fill-color: #FFFFFF;\n",
              "      --disabled-bg-color: #3B4455;\n",
              "      --disabled-fill-color: #666;\n",
              "  }\n",
              "\n",
              "  .colab-df-quickchart {\n",
              "    background-color: var(--bg-color);\n",
              "    border: none;\n",
              "    border-radius: 50%;\n",
              "    cursor: pointer;\n",
              "    display: none;\n",
              "    fill: var(--fill-color);\n",
              "    height: 32px;\n",
              "    padding: 0;\n",
              "    width: 32px;\n",
              "  }\n",
              "\n",
              "  .colab-df-quickchart:hover {\n",
              "    background-color: var(--hover-bg-color);\n",
              "    box-shadow: 0 1px 2px rgba(60, 64, 67, 0.3), 0 1px 3px 1px rgba(60, 64, 67, 0.15);\n",
              "    fill: var(--button-hover-fill-color);\n",
              "  }\n",
              "\n",
              "  .colab-df-quickchart-complete:disabled,\n",
              "  .colab-df-quickchart-complete:disabled:hover {\n",
              "    background-color: var(--disabled-bg-color);\n",
              "    fill: var(--disabled-fill-color);\n",
              "    box-shadow: none;\n",
              "  }\n",
              "\n",
              "  .colab-df-spinner {\n",
              "    border: 2px solid var(--fill-color);\n",
              "    border-color: transparent;\n",
              "    border-bottom-color: var(--fill-color);\n",
              "    animation:\n",
              "      spin 1s steps(1) infinite;\n",
              "  }\n",
              "\n",
              "  @keyframes spin {\n",
              "    0% {\n",
              "      border-color: transparent;\n",
              "      border-bottom-color: var(--fill-color);\n",
              "      border-left-color: var(--fill-color);\n",
              "    }\n",
              "    20% {\n",
              "      border-color: transparent;\n",
              "      border-left-color: var(--fill-color);\n",
              "      border-top-color: var(--fill-color);\n",
              "    }\n",
              "    30% {\n",
              "      border-color: transparent;\n",
              "      border-left-color: var(--fill-color);\n",
              "      border-top-color: var(--fill-color);\n",
              "      border-right-color: var(--fill-color);\n",
              "    }\n",
              "    40% {\n",
              "      border-color: transparent;\n",
              "      border-right-color: var(--fill-color);\n",
              "      border-top-color: var(--fill-color);\n",
              "    }\n",
              "    60% {\n",
              "      border-color: transparent;\n",
              "      border-right-color: var(--fill-color);\n",
              "    }\n",
              "    80% {\n",
              "      border-color: transparent;\n",
              "      border-right-color: var(--fill-color);\n",
              "      border-bottom-color: var(--fill-color);\n",
              "    }\n",
              "    90% {\n",
              "      border-color: transparent;\n",
              "      border-bottom-color: var(--fill-color);\n",
              "    }\n",
              "  }\n",
              "</style>\n",
              "\n",
              "      <script>\n",
              "        async function quickchart(key) {\n",
              "          const quickchartButtonEl =\n",
              "            document.querySelector('#' + key + ' button');\n",
              "          quickchartButtonEl.disabled = true;  // To prevent multiple clicks.\n",
              "          quickchartButtonEl.classList.add('colab-df-spinner');\n",
              "          try {\n",
              "            const charts = await google.colab.kernel.invokeFunction(\n",
              "                'suggestCharts', [key], {});\n",
              "          } catch (error) {\n",
              "            console.error('Error during call to suggestCharts:', error);\n",
              "          }\n",
              "          quickchartButtonEl.classList.remove('colab-df-spinner');\n",
              "          quickchartButtonEl.classList.add('colab-df-quickchart-complete');\n",
              "        }\n",
              "        (() => {\n",
              "          let quickchartButtonEl =\n",
              "            document.querySelector('#df-c04ba3c4-3e6d-4217-a98d-d40af398bc0f button');\n",
              "          quickchartButtonEl.style.display =\n",
              "            google.colab.kernel.accessAllowed ? 'block' : 'none';\n",
              "        })();\n",
              "      </script>\n",
              "    </div>\n",
              "\n",
              "  <div id=\"id_eaa42da5-ec4b-48a4-96ef-33a5df7d169c\">\n",
              "    <style>\n",
              "      .colab-df-generate {\n",
              "        background-color: #E8F0FE;\n",
              "        border: none;\n",
              "        border-radius: 50%;\n",
              "        cursor: pointer;\n",
              "        display: none;\n",
              "        fill: #1967D2;\n",
              "        height: 32px;\n",
              "        padding: 0 0 0 0;\n",
              "        width: 32px;\n",
              "      }\n",
              "\n",
              "      .colab-df-generate:hover {\n",
              "        background-color: #E2EBFA;\n",
              "        box-shadow: 0px 1px 2px rgba(60, 64, 67, 0.3), 0px 1px 3px 1px rgba(60, 64, 67, 0.15);\n",
              "        fill: #174EA6;\n",
              "      }\n",
              "\n",
              "      [theme=dark] .colab-df-generate {\n",
              "        background-color: #3B4455;\n",
              "        fill: #D2E3FC;\n",
              "      }\n",
              "\n",
              "      [theme=dark] .colab-df-generate:hover {\n",
              "        background-color: #434B5C;\n",
              "        box-shadow: 0px 1px 3px 1px rgba(0, 0, 0, 0.15);\n",
              "        filter: drop-shadow(0px 1px 2px rgba(0, 0, 0, 0.3));\n",
              "        fill: #FFFFFF;\n",
              "      }\n",
              "    </style>\n",
              "    <button class=\"colab-df-generate\" onclick=\"generateWithVariable('df')\"\n",
              "            title=\"Generate code using this dataframe.\"\n",
              "            style=\"display:none;\">\n",
              "\n",
              "  <svg xmlns=\"http://www.w3.org/2000/svg\" height=\"24px\"viewBox=\"0 0 24 24\"\n",
              "       width=\"24px\">\n",
              "    <path d=\"M7,19H8.4L18.45,9,17,7.55,7,17.6ZM5,21V16.75L18.45,3.32a2,2,0,0,1,2.83,0l1.4,1.43a1.91,1.91,0,0,1,.58,1.4,1.91,1.91,0,0,1-.58,1.4L9.25,21ZM18.45,9,17,7.55Zm-12,3A5.31,5.31,0,0,0,4.9,8.1,5.31,5.31,0,0,0,1,6.5,5.31,5.31,0,0,0,4.9,4.9,5.31,5.31,0,0,0,6.5,1,5.31,5.31,0,0,0,8.1,4.9,5.31,5.31,0,0,0,12,6.5,5.46,5.46,0,0,0,6.5,12Z\"/>\n",
              "  </svg>\n",
              "    </button>\n",
              "    <script>\n",
              "      (() => {\n",
              "      const buttonEl =\n",
              "        document.querySelector('#id_eaa42da5-ec4b-48a4-96ef-33a5df7d169c button.colab-df-generate');\n",
              "      buttonEl.style.display =\n",
              "        google.colab.kernel.accessAllowed ? 'block' : 'none';\n",
              "\n",
              "      buttonEl.onclick = () => {\n",
              "        google.colab.notebook.generateWithVariable('df');\n",
              "      }\n",
              "      })();\n",
              "    </script>\n",
              "  </div>\n",
              "\n",
              "    </div>\n",
              "  </div>\n"
            ],
            "application/vnd.google.colaboratory.intrinsic+json": {
              "type": "dataframe",
              "variable_name": "df"
            }
          },
          "metadata": {},
          "execution_count": 6
        }
      ],
      "source": [
        "# Run this cell without changes\n",
        "df"
      ]
    },
    {
      "cell_type": "code",
      "execution_count": 7,
      "metadata": {
        "colab": {
          "base_uri": "https://localhost:8080/"
        },
        "id": "Poe2EKq3cHgU",
        "outputId": "f897457c-8353-4df3-cc3d-b2ea10726396"
      },
      "outputs": [
        {
          "output_type": "stream",
          "name": "stdout",
          "text": [
            "<class 'pandas.core.frame.DataFrame'>\n",
            "Index: 1460 entries, 1 to 1460\n",
            "Data columns (total 80 columns):\n",
            " #   Column         Non-Null Count  Dtype  \n",
            "---  ------         --------------  -----  \n",
            " 0   MSSubClass     1460 non-null   int64  \n",
            " 1   MSZoning       1460 non-null   object \n",
            " 2   LotFrontage    1201 non-null   float64\n",
            " 3   LotArea        1460 non-null   int64  \n",
            " 4   Street         1460 non-null   object \n",
            " 5   Alley          91 non-null     object \n",
            " 6   LotShape       1460 non-null   object \n",
            " 7   LandContour    1460 non-null   object \n",
            " 8   Utilities      1460 non-null   object \n",
            " 9   LotConfig      1460 non-null   object \n",
            " 10  LandSlope      1460 non-null   object \n",
            " 11  Neighborhood   1460 non-null   object \n",
            " 12  Condition1     1460 non-null   object \n",
            " 13  Condition2     1460 non-null   object \n",
            " 14  BldgType       1460 non-null   object \n",
            " 15  HouseStyle     1460 non-null   object \n",
            " 16  OverallQual    1460 non-null   int64  \n",
            " 17  OverallCond    1460 non-null   int64  \n",
            " 18  YearBuilt      1460 non-null   int64  \n",
            " 19  YearRemodAdd   1460 non-null   int64  \n",
            " 20  RoofStyle      1460 non-null   object \n",
            " 21  RoofMatl       1460 non-null   object \n",
            " 22  Exterior1st    1460 non-null   object \n",
            " 23  Exterior2nd    1460 non-null   object \n",
            " 24  MasVnrType     588 non-null    object \n",
            " 25  MasVnrArea     1452 non-null   float64\n",
            " 26  ExterQual      1460 non-null   object \n",
            " 27  ExterCond      1460 non-null   object \n",
            " 28  Foundation     1460 non-null   object \n",
            " 29  BsmtQual       1423 non-null   object \n",
            " 30  BsmtCond       1423 non-null   object \n",
            " 31  BsmtExposure   1422 non-null   object \n",
            " 32  BsmtFinType1   1423 non-null   object \n",
            " 33  BsmtFinSF1     1460 non-null   int64  \n",
            " 34  BsmtFinType2   1422 non-null   object \n",
            " 35  BsmtFinSF2     1460 non-null   int64  \n",
            " 36  BsmtUnfSF      1460 non-null   int64  \n",
            " 37  TotalBsmtSF    1460 non-null   int64  \n",
            " 38  Heating        1460 non-null   object \n",
            " 39  HeatingQC      1460 non-null   object \n",
            " 40  CentralAir     1460 non-null   object \n",
            " 41  Electrical     1459 non-null   object \n",
            " 42  1stFlrSF       1460 non-null   int64  \n",
            " 43  2ndFlrSF       1460 non-null   int64  \n",
            " 44  LowQualFinSF   1460 non-null   int64  \n",
            " 45  GrLivArea      1460 non-null   int64  \n",
            " 46  BsmtFullBath   1460 non-null   int64  \n",
            " 47  BsmtHalfBath   1460 non-null   int64  \n",
            " 48  FullBath       1460 non-null   int64  \n",
            " 49  HalfBath       1460 non-null   int64  \n",
            " 50  BedroomAbvGr   1460 non-null   int64  \n",
            " 51  KitchenAbvGr   1460 non-null   int64  \n",
            " 52  KitchenQual    1460 non-null   object \n",
            " 53  TotRmsAbvGrd   1460 non-null   int64  \n",
            " 54  Functional     1460 non-null   object \n",
            " 55  Fireplaces     1460 non-null   int64  \n",
            " 56  FireplaceQu    770 non-null    object \n",
            " 57  GarageType     1379 non-null   object \n",
            " 58  GarageYrBlt    1379 non-null   float64\n",
            " 59  GarageFinish   1379 non-null   object \n",
            " 60  GarageCars     1460 non-null   int64  \n",
            " 61  GarageArea     1460 non-null   int64  \n",
            " 62  GarageQual     1379 non-null   object \n",
            " 63  GarageCond     1379 non-null   object \n",
            " 64  PavedDrive     1460 non-null   object \n",
            " 65  WoodDeckSF     1460 non-null   int64  \n",
            " 66  OpenPorchSF    1460 non-null   int64  \n",
            " 67  EnclosedPorch  1460 non-null   int64  \n",
            " 68  3SsnPorch      1460 non-null   int64  \n",
            " 69  ScreenPorch    1460 non-null   int64  \n",
            " 70  PoolArea       1460 non-null   int64  \n",
            " 71  PoolQC         7 non-null      object \n",
            " 72  Fence          281 non-null    object \n",
            " 73  MiscFeature    54 non-null     object \n",
            " 74  MiscVal        1460 non-null   int64  \n",
            " 75  MoSold         1460 non-null   int64  \n",
            " 76  YrSold         1460 non-null   int64  \n",
            " 77  SaleType       1460 non-null   object \n",
            " 78  SaleCondition  1460 non-null   object \n",
            " 79  SalePrice      1460 non-null   int64  \n",
            "dtypes: float64(3), int64(34), object(43)\n",
            "memory usage: 923.9+ KB\n"
          ]
        }
      ],
      "source": [
        "# Run this cell without changes\n",
        "df.info()"
      ]
    },
    {
      "cell_type": "markdown",
      "metadata": {
        "id": "Yt9rcsPrcHgU"
      },
      "source": [
        "## 2. Explore Data Distributions\n",
        "\n",
        "Write code to produce histograms showing the distributions of `SalePrice`, `TotRmsAbvGrd`, and `OverallCond`.\n",
        "\n",
        "Each histogram should have appropriate title and axes labels, as well as a black vertical line indicating the mean of the dataset. See the documentation for [plotting histograms](https://matplotlib.org/stable/api/_as_gen/matplotlib.axes.Axes.hist.html), [customizing axes](https://matplotlib.org/stable/api/axes_api.html#axis-labels-title-and-legend), and [plotting vertical lines](https://matplotlib.org/stable/api/_as_gen/matplotlib.axes.Axes.axvline.html#matplotlib.axes.Axes.axvline) as needed."
      ]
    },
    {
      "cell_type": "markdown",
      "metadata": {
        "id": "x2-qnSHNcHgU"
      },
      "source": [
        "### Sale Price\n",
        "\n",
        "In the cell below, produce a histogram for `SalePrice`."
      ]
    },
    {
      "cell_type": "code",
      "execution_count": 12,
      "metadata": {
        "colab": {
          "base_uri": "https://localhost:8080/",
          "height": 452
        },
        "id": "h4Ybnqj9cHgU",
        "outputId": "f8821004-f534-4025-88cd-e4360419c3f7"
      },
      "outputs": [
        {
          "output_type": "display_data",
          "data": {
            "text/plain": [
              "<Figure size 640x480 with 1 Axes>"
            ],
            "image/png": "[encoded data removed]"
          },
          "metadata": {}
        }
      ],
      "source": [
        "# Your code here\n",
        "plt.title('Sale Price')\n",
        "plt.xlabel('Price ($)')\n",
        "df['SalePrice'].plot(kind = 'hist');"
      ]
    },
    {
      "cell_type": "markdown",
      "metadata": {
        "id": "lCuzdGAmcHgV"
      },
      "source": [
        "Now, print out the mean, median, and standard deviation:"
      ]
    },
    {
      "cell_type": "code",
      "execution_count": 13,
      "metadata": {
        "colab": {
          "base_uri": "https://localhost:8080/"
        },
        "id": "BRXL6GBAcHgV",
        "outputId": "f5590ade-5a31-4a12-9b84-d5f6e9e72382"
      },
      "outputs": [
        {
          "output_type": "stream",
          "name": "stdout",
          "text": [
            "Mean: 180921.19589041095\n",
            "Median: 163000.0\n",
            "Standard deviation: 79442.50288288663\n"
          ]
        }
      ],
      "source": [
        "# Your code here\n",
        "print('Mean:', df['SalePrice'].mean())\n",
        "print('Median:', df['SalePrice'].median())\n",
        "print('Standard deviation:', df['SalePrice'].std())"
      ]
    },
    {
      "cell_type": "markdown",
      "metadata": {
        "id": "lVohMD_8cHgV"
      },
      "source": [
        "In the cell below, interpret the above information."
      ]
    },
    {
      "cell_type": "code",
      "execution_count": null,
      "metadata": {
        "id": "Zac_oxfpcHgV"
      },
      "outputs": [],
      "source": [
        "# Replace None with appropriate text\n",
        "\"\"\"\n",
        "The Mean Selling Price is 180, 921.195 Dollars\n",
        "The Median Selling Price is 163, 000 Dollars\n",
        "The\n",
        "\"\"\""
      ]
    },
    {
      "cell_type": "markdown",
      "metadata": {
        "id": "gETM-BjIcHgV"
      },
      "source": [
        "### Total Rooms Above Grade\n",
        "\n",
        "In the cell below, produce a histogram for `TotRmsAbvGrd`."
      ]
    },
    {
      "cell_type": "code",
      "execution_count": 14,
      "metadata": {
        "colab": {
          "base_uri": "https://localhost:8080/",
          "height": 452
        },
        "id": "biJ3nveWcHgV",
        "outputId": "26a62633-5b60-465d-e6b6-12cf42f22fb5"
      },
      "outputs": [
        {
          "output_type": "display_data",
          "data": {
            "text/plain": [
              "<Figure size 640x480 with 1 Axes>"
            ],
            "image/png": "[encoded data removed]"
          },
          "metadata": {}
        }
      ],
      "source": [
        "# Your code here\n",
        "plt.title('Total Rooms Above Grade')\n",
        "plt.xlabel('Price ($)')\n",
        "df['TotRmsAbvGrd'].plot(kind = 'hist');"
      ]
    },
    {
      "cell_type": "markdown",
      "metadata": {
        "id": "yuVZO2a7cHgV"
      },
      "source": [
        "Now, print out the mean, median, and standard deviation:"
      ]
    },
    {
      "cell_type": "code",
      "execution_count": 15,
      "metadata": {
        "colab": {
          "base_uri": "https://localhost:8080/"
        },
        "id": "Wc2k_0kMcHgV",
        "outputId": "0e2743b1-518f-4b4e-96b1-732d4de6c5b0"
      },
      "outputs": [
        {
          "output_type": "stream",
          "name": "stdout",
          "text": [
            "Mean: 6.517808219178082\n",
            "Median: 6.0\n",
            "Standard deviation: 1.625393290584064\n"
          ]
        }
      ],
      "source": [
        "# Your code here\n",
        "print('Mean:', df['TotRmsAbvGrd'].mean())\n",
        "print('Median:', df['TotRmsAbvGrd'].median())\n",
        "print('Standard deviation:', df['TotRmsAbvGrd'].std())"
      ]
    },
    {
      "cell_type": "markdown",
      "metadata": {
        "id": "Jjw7oW51cHgV"
      },
      "source": [
        "In the cell below, interpret the above information."
      ]
    },
    {
      "cell_type": "code",
      "execution_count": null,
      "metadata": {
        "id": "lk9t_WhvcHgW"
      },
      "outputs": [],
      "source": [
        "# Replace None with appropriate text\n",
        "\"\"\"\n",
        "The mean number of rooms above grade is 6.5178\n",
        "The median number of rooms above grade is 6\n",
        "The standard deviation is 1.6253\n",
        "\"\"\""
      ]
    },
    {
      "cell_type": "markdown",
      "metadata": {
        "id": "cYECi4N0cHgW"
      },
      "source": [
        "### Overall Condition\n",
        "\n",
        "In the cell below, produce a histogram for `OverallCond`."
      ]
    },
    {
      "cell_type": "code",
      "execution_count": 16,
      "metadata": {
        "colab": {
          "base_uri": "https://localhost:8080/",
          "height": 452
        },
        "id": "4DDBD87CcHgW",
        "outputId": "9c01bd05-188d-4391-b48c-f4c9145476d1"
      },
      "outputs": [
        {
          "output_type": "display_data",
          "data": {
            "text/plain": [
              "<Figure size 640x480 with 1 Axes>"
            ],
            "image/png": "[encoded data removed]"
          },
          "metadata": {}
        }
      ],
      "source": [
        "# Your code here\n",
        "plt.title('Overall Room Condition')\n",
        "plt.xlabel('Price ($)')\n",
        "df['OverallCond'].plot(kind = 'hist');"
      ]
    },
    {
      "cell_type": "markdown",
      "metadata": {
        "id": "dMkMPUIFcHgW"
      },
      "source": [
        "Now, print out the mean, median, and standard deviation:"
      ]
    },
    {
      "cell_type": "code",
      "execution_count": 17,
      "metadata": {
        "colab": {
          "base_uri": "https://localhost:8080/"
        },
        "id": "plgzGYKwcHgW",
        "outputId": "a3a3a3c0-a8d6-4d8d-dda3-fcaf8b17e976"
      },
      "outputs": [
        {
          "output_type": "stream",
          "name": "stdout",
          "text": [
            "Mean: 5.575342465753424\n",
            "Median: 5.0\n",
            "Standard deviation: 1.1127993367127367\n"
          ]
        }
      ],
      "source": [
        "# Your code here\n",
        "print('Mean:', df['OverallCond'].mean())\n",
        "print('Median:', df['OverallCond'].median())\n",
        "print('Standard deviation:', df['OverallCond'].std())"
      ]
    },
    {
      "cell_type": "markdown",
      "metadata": {
        "id": "LZj8aNVJcHgW"
      },
      "source": [
        "In the cell below, interpret the above information."
      ]
    },
    {
      "cell_type": "code",
      "execution_count": null,
      "metadata": {
        "id": "GPT5L-efcHgW"
      },
      "outputs": [],
      "source": [
        "# Replace None with appropriate text\n",
        "\"\"\"\n",
        "The mean number of rooms\n",
        "\"\"\""
      ]
    },
    {
      "cell_type": "markdown",
      "metadata": {
        "id": "EnuNXi-EcHgW"
      },
      "source": [
        "## 3. Explore Differences between Subsets\n",
        "\n",
        "As you might have noted in the previous step, the overall condition of the house seems like we should treat it as more of a categorical variable, rather than a numeric variable.\n",
        "\n",
        "One useful way to explore a categorical variable is to create subsets of the full dataset based on that categorical variable, then plot their distributions based on some other variable. Since this dataset is traditionally used for predicting the sale price of a house, let's use `SalePrice` as that other variable.\n",
        "\n",
        "In the cell below, create three variables, each of which represents a record-wise subset of `df` (meaning, it has the same columns as `df`, but only some of the rows).\n",
        "\n",
        "* `below_average_condition`: home sales where the overall condition was less than 5\n",
        "* `average_condition`: home sales where the overall condition was exactly 5\n",
        "* `above_average_condition`: home sales where the overall condition was greater than 5"
      ]
    },
    {
      "cell_type": "code",
      "execution_count": 21,
      "metadata": {
        "id": "Y8xjzzsPcHgW"
      },
      "outputs": [],
      "source": [
        "# Replace None with appropriate code\n",
        "below_average_condition = df[df['OverallCond'] < 5]\n",
        "average_condition = df[df['OverallCond'] == 5]\n",
        "above_average_condition = df[df['OverallCond'] > 5]"
      ]
    },
    {
      "cell_type": "markdown",
      "metadata": {
        "id": "QJOxV0flcHgW"
      },
      "source": [
        "The following code checks that you created the subsets correctly:"
      ]
    },
    {
      "cell_type": "code",
      "execution_count": 22,
      "metadata": {
        "id": "83Vco_2OcHgW"
      },
      "outputs": [],
      "source": [
        "# Run this cell without changes\n",
        "\n",
        "# Check that all of them still have 80 columns\n",
        "assert below_average_condition.shape[1] == 80\n",
        "assert average_condition.shape[1] == 80\n",
        "assert above_average_condition.shape[1] == 80\n",
        "\n",
        "# Check the numbers of rows of each subset\n",
        "assert below_average_condition.shape[0] == 88\n",
        "assert average_condition.shape[0] == 821\n",
        "assert above_average_condition.shape[0] == 551"
      ]
    },
    {
      "cell_type": "markdown",
      "metadata": {
        "id": "uAj1w5EKcHgX"
      },
      "source": [
        "The following code will produce a plot of the distributions of sale price for each of these subsets:"
      ]
    },
    {
      "cell_type": "code",
      "execution_count": 23,
      "metadata": {
        "colab": {
          "base_uri": "https://localhost:8080/",
          "height": 487
        },
        "id": "JnOVEZ8VcHgX",
        "outputId": "17efc0a6-fa74-4d25-9254-236f35ed11b2"
      },
      "outputs": [
        {
          "output_type": "display_data",
          "data": {
            "text/plain": [
              "<Figure size 1500x500 with 1 Axes>"
            ],
            "image/png": "[encoded data removed]"
          },
          "metadata": {}
        }
      ],
      "source": [
        "# Run this cell without changes\n",
        "\n",
        "# Set up plot\n",
        "fig, ax = plt.subplots(figsize=(15,5))\n",
        "\n",
        "# Create custom bins so all are on the same scale\n",
        "bins = range(df[\"SalePrice\"].min(), df[\"SalePrice\"].max(), int(df[\"SalePrice\"].median()) // 20)\n",
        "\n",
        "# Plot three histograms, with reduced opacity (alpha) so we\n",
        "# can see them overlapping\n",
        "ax.hist(\n",
        "    x=above_average_condition[\"SalePrice\"],\n",
        "    label=\"above average condition\",\n",
        "    bins=bins,\n",
        "    color=\"cyan\",\n",
        "    alpha=0.5\n",
        ")\n",
        "ax.hist(\n",
        "    x=average_condition[\"SalePrice\"],\n",
        "    label=\"average condition\",\n",
        "    bins=bins,\n",
        "    color=\"gray\",\n",
        "    alpha=0.3\n",
        ")\n",
        "ax.hist(\n",
        "    x=below_average_condition[\"SalePrice\"],\n",
        "    label=\"below average condition\",\n",
        "    bins=bins,\n",
        "    color=\"yellow\",\n",
        "    alpha=0.5\n",
        ")\n",
        "\n",
        "# Customize labels\n",
        "ax.set_title(\"Distributions of Sale Price Grouped by Condition\")\n",
        "ax.set_xlabel(\"Sale Price\")\n",
        "ax.set_ylabel(\"Number of Houses\")\n",
        "ax.legend();"
      ]
    },
    {
      "cell_type": "markdown",
      "metadata": {
        "id": "ci1cNqeJcHgX"
      },
      "source": [
        "Interpret the plot above. What does it tell us about these overall condition categories, and the relationship between overall condition and sale price? Is there anything surprising?"
      ]
    },
    {
      "cell_type": "code",
      "execution_count": null,
      "metadata": {
        "id": "W6ZwcIXncHgb"
      },
      "outputs": [],
      "source": [
        "# Replace None with appropriate text\n",
        "\"\"\"\n",
        "None\n",
        "\"\"\""
      ]
    },
    {
      "cell_type": "markdown",
      "metadata": {
        "id": "yBWhB0R5cHgb"
      },
      "source": [
        "## 4. Explore Correlations\n",
        "\n",
        "To understand more about what features of these homes lead to higher sale prices, let's look at some correlations. We'll return to using the full `df`, rather than the subsets.\n",
        "\n",
        "In the cell below, print out both the name of the column and the Pearson correlation for the column that is ***most positively correlated*** with `SalePrice` (other than `SalePrice`, which is perfectly correlated with itself).\n",
        "\n",
        "We'll only check the correlations with some kind of numeric data type.\n",
        "\n",
        "You can import additional libraries, although it is possible to do this just using pandas."
      ]
    },
    {
      "cell_type": "code",
      "execution_count": 41,
      "metadata": {
        "colab": {
          "base_uri": "https://localhost:8080/"
        },
        "id": "sResH_vIcHgb",
        "outputId": "2dd4ac2b-eebf-4481-82fc-308a4e6b8a51"
      },
      "outputs": [
        {
          "output_type": "stream",
          "name": "stdout",
          "text": [
            "Most positively correlated column with SalePrice: OverallQual\n",
            "Correlation value: 0.7909816005838053\n"
          ]
        }
      ],
      "source": [
        "# Your code here\n",
        "sale_corr = df.corr(numeric_only=True)['SalePrice']\n",
        "most_positive_corr = sale_corr.drop('SalePrice').idxmax()\n",
        "print(f\"Most positively correlated column with SalePrice: {most_positive_corr}\")\n",
        "print(f\"Correlation value: {sale_corr[most_positive_corr]}\")"
      ]
    },
    {
      "cell_type": "markdown",
      "metadata": {
        "id": "TQ4KndE6cHgb"
      },
      "source": [
        "Now, find the ***most negatively correlated*** column:"
      ]
    },
    {
      "cell_type": "code",
      "execution_count": 42,
      "metadata": {
        "colab": {
          "base_uri": "https://localhost:8080/"
        },
        "id": "FWBun7WscHgb",
        "outputId": "ec9b7a74-2fd5-4fe8-b545-65c34cb89482"
      },
      "outputs": [
        {
          "output_type": "stream",
          "name": "stdout",
          "text": [
            "Most positively correlated column with SalePrice: KitchenAbvGr\n",
            "Correlation value: -0.13590737084214105\n"
          ]
        }
      ],
      "source": [
        "# Your code here\n",
        "sale_corr = df.corr(numeric_only=True)['SalePrice']\n",
        "most_negative_corr = sale_corr.drop('SalePrice').idxmin()\n",
        "print(f\"Most positively correlated column with SalePrice: {most_negative_corr}\")\n",
        "print(f\"Correlation value: {sale_corr[most_negative_corr]}\")"
      ]
    },
    {
      "cell_type": "markdown",
      "metadata": {
        "id": "0cHdm2nscHgb"
      },
      "source": [
        "Once you have your answer, edit the code below so that it produces a box plot of the relevant columns."
      ]
    },
    {
      "cell_type": "code",
      "execution_count": 45,
      "metadata": {
        "colab": {
          "base_uri": "https://localhost:8080/",
          "height": 487
        },
        "id": "u0D9FrIkcHgc",
        "outputId": "ee67d2f6-90ec-443d-8c99-e2fad113e481"
      },
      "outputs": [
        {
          "output_type": "display_data",
          "data": {
            "text/plain": [
              "<Figure size 1500x500 with 2 Axes>"
            ],
            "image/png": "[encoded data removed]"
          },
          "metadata": {}
        }
      ],
      "source": [
        "# Replace None with appropriate code\n",
        "\n",
        "import seaborn as sns\n",
        "\n",
        "fig, (ax1, ax2) = plt.subplots(ncols=2, figsize=(15,5))\n",
        "\n",
        "# Plot distribution of column with highest correlation\n",
        "sns.boxplot(\n",
        "    x= df[most_positive_corr],\n",
        "    y=df[\"SalePrice\"],\n",
        "    ax=ax1\n",
        ")\n",
        "# Plot distribution of column with most negative correlation\n",
        "sns.boxplot(\n",
        "    x=df[most_negative_corr],\n",
        "    y=df[\"SalePrice\"],\n",
        "    ax=ax2\n",
        ")\n",
        "\n",
        "# Customize labels\n",
        "ax1.set_title('OverallQual Correlation with SalePrice')\n",
        "ax1.set_xlabel('OverallQual')\n",
        "ax1.set_ylabel(\"Sale Price\")\n",
        "ax2.set_title('KitchenAbvGr Correlation with SalePrice')\n",
        "ax2.set_xlabel('KitchenAbvGr')\n",
        "ax2.set_ylabel(\"Sale Price\");"
      ]
    },
    {
      "cell_type": "markdown",
      "metadata": {
        "id": "WwGIL3YncHgc"
      },
      "source": [
        "Interpret the results below. Consult `data/data_description.txt` as needed."
      ]
    },
    {
      "cell_type": "code",
      "execution_count": null,
      "metadata": {
        "id": "Bui3_FjBcHgc"
      },
      "outputs": [],
      "source": [
        "# Replace None with appropriate text\n",
        "\"\"\"\n",
        "None\n",
        "\"\"\""
      ]
    },
    {
      "cell_type": "markdown",
      "metadata": {
        "id": "-13yByjvcHgc"
      },
      "source": [
        "## 5. Engineer and Explore a New Feature\n",
        "\n",
        "Here the code is written for you, all you need to do is interpret it.\n",
        "\n",
        "We note that the data spans across several years of sales:"
      ]
    },
    {
      "cell_type": "code",
      "execution_count": 46,
      "metadata": {
        "colab": {
          "base_uri": "https://localhost:8080/",
          "height": 272
        },
        "id": "tG5NTFWacHgc",
        "outputId": "3ac8ec1d-1f58-4942-b7b1-a0aa8c37088c"
      },
      "outputs": [
        {
          "output_type": "execute_result",
          "data": {
            "text/plain": [
              "YrSold\n",
              "2006    314\n",
              "2007    329\n",
              "2008    304\n",
              "2009    338\n",
              "2010    175\n",
              "Name: count, dtype: int64"
            ],
            "text/html": [
              "<div>\n",
              "<style scoped>\n",
              "    .dataframe tbody tr th:only-of-type {\n",
              "        vertical-align: middle;\n",
              "    }\n",
              "\n",
              "    .dataframe tbody tr th {\n",
              "        vertical-align: top;\n",
              "    }\n",
              "\n",
              "    .dataframe thead th {\n",
              "        text-align: right;\n",
              "    }\n",
              "</style>\n",
              "<table border=\"1\" class=\"dataframe\">\n",
              "  <thead>\n",
              "    <tr style=\"text-align: right;\">\n",
              "      <th></th>\n",
              "      <th>count</th>\n",
              "    </tr>\n",
              "    <tr>\n",
              "      <th>YrSold</th>\n",
              "      <th></th>\n",
              "    </tr>\n",
              "  </thead>\n",
              "  <tbody>\n",
              "    <tr>\n",
              "      <th>2006</th>\n",
              "      <td>314</td>\n",
              "    </tr>\n",
              "    <tr>\n",
              "      <th>2007</th>\n",
              "      <td>329</td>\n",
              "    </tr>\n",
              "    <tr>\n",
              "      <th>2008</th>\n",
              "      <td>304</td>\n",
              "    </tr>\n",
              "    <tr>\n",
              "      <th>2009</th>\n",
              "      <td>338</td>\n",
              "    </tr>\n",
              "    <tr>\n",
              "      <th>2010</th>\n",
              "      <td>175</td>\n",
              "    </tr>\n",
              "  </tbody>\n",
              "</table>\n",
              "</div><br><label><b>dtype:</b> int64</label>"
            ]
          },
          "metadata": {},
          "execution_count": 46
        }
      ],
      "source": [
        "# Run this cell without changes\n",
        "df[\"YrSold\"].value_counts().sort_index()"
      ]
    },
    {
      "cell_type": "markdown",
      "metadata": {
        "id": "Kw0Q5rItcHgc"
      },
      "source": [
        "Maybe we can learn something interesting from the age of the home when it was sold. This uses information from the `YrBuilt` and `YrSold` columns, but represents a truly distinct feature."
      ]
    },
    {
      "cell_type": "code",
      "execution_count": 47,
      "metadata": {
        "colab": {
          "base_uri": "https://localhost:8080/",
          "height": 487
        },
        "id": "FiPjsi8kcHgc",
        "outputId": "f5f9edb5-aa1e-4b58-de7d-c4fce6e6004d"
      },
      "outputs": [
        {
          "output_type": "display_data",
          "data": {
            "text/plain": [
              "<Figure size 1500x500 with 1 Axes>"
            ],
            "image/png": "[encoded data removed]"
          },
          "metadata": {}
        }
      ],
      "source": [
        "# Run this cell without changes\n",
        "\n",
        "# Make a new column, Age\n",
        "df[\"Age\"] = df[\"YrSold\"] - df[\"YearBuilt\"]\n",
        "\n",
        "# Set up plot\n",
        "fig, ax = plt.subplots(figsize=(15,5))\n",
        "\n",
        "# Plot Age vs. SalePrice\n",
        "ax.scatter(df[\"Age\"], df[\"SalePrice\"], alpha=0.3, color=\"green\")\n",
        "ax.set_title(\"Home Age vs. Sale Price\")\n",
        "ax.set_xlabel(\"Age of Home at Time of Sale\")\n",
        "ax.set_ylabel(\"Sale Price\");"
      ]
    },
    {
      "cell_type": "markdown",
      "metadata": {
        "id": "k0CHeszNcHgc"
      },
      "source": [
        "Interpret this plot below:"
      ]
    },
    {
      "cell_type": "code",
      "execution_count": 48,
      "metadata": {
        "colab": {
          "base_uri": "https://localhost:8080/",
          "height": 36
        },
        "id": "dea4XI60cHgc",
        "outputId": "18edd60d-69ec-4ccc-a79b-db935d1ba520"
      },
      "outputs": [
        {
          "output_type": "execute_result",
          "data": {
            "text/plain": [
              "'\\nNone\\n'"
            ],
            "application/vnd.google.colaboratory.intrinsic+json": {
              "type": "string"
            }
          },
          "metadata": {},
          "execution_count": 48
        }
      ],
      "source": [
        "# Replace None with appropriate text\n",
        "\"\"\"\n",
        "None\n",
        "\"\"\""
      ]
    },
    {
      "cell_type": "markdown",
      "metadata": {
        "id": "-DauubECcHgd"
      },
      "source": [
        "## Summary\n",
        "\n",
        "Congratulations, you've completed an exploratory data analysis of a popular dataset. You saw how to inspect the distributions of individual columns, subsets of columns, correlations, and new engineered features."
      ]
    }
  ],
  "metadata": {
    "kernelspec": {
      "display_name": "python (learn-env)",
      "language": "python",
      "name": "learn-env"
    },
    "language_info": {
      "codemirror_mode": {
        "name": "ipython",
        "version": 3
      },
      "file_extension": ".py",
      "mimetype": "text/x-python",
      "name": "python",
      "nbconvert_exporter": "python",
      "pygments_lexer": "ipython3",
      "version": "3.8.5"
    },
    "colab": {
      "provenance": []
    }
  },
  "nbformat": 4,
  "nbformat_minor": 0
}